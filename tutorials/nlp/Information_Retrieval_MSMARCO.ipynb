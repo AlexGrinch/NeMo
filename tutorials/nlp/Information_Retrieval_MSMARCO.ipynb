{
 "cells": [
  {
   "cell_type": "code",
   "execution_count": 2,
   "metadata": {
    "colab": {},
    "colab_type": "code",
    "id": "uRLPr0TnIAHO"
   },
   "outputs": [],
   "source": [
    "BRANCH = 'ir_tutorial'"
   ]
  },
  {
   "cell_type": "code",
   "execution_count": 3,
   "metadata": {
    "colab": {},
    "colab_type": "code",
    "id": "o_0K1lsW1dj9"
   },
   "outputs": [
    {
     "name": "stdout",
     "output_type": "stream",
     "text": [
      "Requirement already satisfied: nemo_toolkit[nlp] from git+https://github.com/AlexGrinch/NeMo.git@candidate_ir#egg=nemo_toolkit[nlp] in /home/ohrinchuk/anaconda3/lib/python3.7/site-packages (1.0.0b1)\n",
      "Requirement already satisfied: hydra-core==1.0.0rc4 in /home/ohrinchuk/anaconda3/lib/python3.7/site-packages (from nemo_toolkit[nlp]) (1.0.0rc4)\n",
      "Requirement already satisfied: python-dateutil in /home/ohrinchuk/anaconda3/lib/python3.7/site-packages (from nemo_toolkit[nlp]) (2.8.1)\n",
      "Requirement already satisfied: wrapt in /home/ohrinchuk/anaconda3/lib/python3.7/site-packages (from nemo_toolkit[nlp]) (1.11.2)\n",
      "Requirement already satisfied: ruamel.yaml in /home/ohrinchuk/anaconda3/lib/python3.7/site-packages (from nemo_toolkit[nlp]) (0.16.10)\n",
      "Requirement already satisfied: numpy>=1.18.2 in /home/ohrinchuk/anaconda3/lib/python3.7/site-packages (from nemo_toolkit[nlp]) (1.18.3)\n",
      "Requirement already satisfied: torch in /home/ohrinchuk/anaconda3/lib/python3.7/site-packages (from nemo_toolkit[nlp]) (1.6.0a0+be52b7f)\n",
      "Requirement already satisfied: onnx>=1.7.0 in /home/ohrinchuk/anaconda3/lib/python3.7/site-packages (from nemo_toolkit[nlp]) (1.7.0)\n",
      "Requirement already satisfied: scikit-learn in /home/ohrinchuk/anaconda3/lib/python3.7/site-packages (from nemo_toolkit[nlp]) (0.22.1)\n",
      "Requirement already satisfied: omegaconf==2.0.1rc12 in /home/ohrinchuk/anaconda3/lib/python3.7/site-packages (from nemo_toolkit[nlp]) (2.0.1rc12)\n",
      "Requirement already satisfied: transformers>=3.1.0 in /home/ohrinchuk/anaconda3/lib/python3.7/site-packages (from nemo_toolkit[nlp]) (3.1.0)\n",
      "Requirement already satisfied: wget in /home/ohrinchuk/anaconda3/lib/python3.7/site-packages (from nemo_toolkit[nlp]) (3.2)\n",
      "Requirement already satisfied: pytorch-lightning==0.9.0 in /home/ohrinchuk/anaconda3/lib/python3.7/site-packages (from nemo_toolkit[nlp]) (0.9.0)\n",
      "Requirement already satisfied: gdown; extra == \"nlp\" in /home/ohrinchuk/anaconda3/lib/python3.7/site-packages (from nemo_toolkit[nlp]) (3.11.0)\n",
      "Requirement already satisfied: torchtext; extra == \"nlp\" in /home/ohrinchuk/anaconda3/lib/python3.7/site-packages (from nemo_toolkit[nlp]) (0.6.0)\n",
      "Requirement already satisfied: tqdm>=4.41.0; extra == \"nlp\" in /home/ohrinchuk/anaconda3/lib/python3.7/site-packages (from nemo_toolkit[nlp]) (4.42.1)\n",
      "Requirement already satisfied: megatron-lm>=1.1.4; extra == \"nlp\" in /home/ohrinchuk/anaconda3/lib/python3.7/site-packages (from nemo_toolkit[nlp]) (1.1.4)\n",
      "Requirement already satisfied: sentencepiece; extra == \"nlp\" in /home/ohrinchuk/anaconda3/lib/python3.7/site-packages (from nemo_toolkit[nlp]) (0.1.85)\n",
      "Requirement already satisfied: h5py; extra == \"nlp\" in /home/ohrinchuk/anaconda3/lib/python3.7/site-packages (from nemo_toolkit[nlp]) (2.10.0)\n",
      "Requirement already satisfied: rapidfuzz; extra == \"nlp\" in /home/ohrinchuk/anaconda3/lib/python3.7/site-packages (from nemo_toolkit[nlp]) (0.9.1)\n",
      "Requirement already satisfied: youtokentome; extra == \"nlp\" in /home/ohrinchuk/anaconda3/lib/python3.7/site-packages (from nemo_toolkit[nlp]) (1.0.6)\n",
      "Requirement already satisfied: unidecode; extra == \"nlp\" in /home/ohrinchuk/anaconda3/lib/python3.7/site-packages (from nemo_toolkit[nlp]) (1.1.1)\n",
      "Requirement already satisfied: boto3; extra == \"nlp\" in /home/ohrinchuk/anaconda3/lib/python3.7/site-packages (from nemo_toolkit[nlp]) (1.12.43)\n",
      "Requirement already satisfied: inflect; extra == \"nlp\" in /home/ohrinchuk/anaconda3/lib/python3.7/site-packages (from nemo_toolkit[nlp]) (4.1.0)\n",
      "Requirement already satisfied: matplotlib>=3.3.2; extra == \"nlp\" in /home/ohrinchuk/anaconda3/lib/python3.7/site-packages (from nemo_toolkit[nlp]) (3.3.2)\n",
      "Requirement already satisfied: antlr4-python3-runtime==4.8 in /home/ohrinchuk/anaconda3/lib/python3.7/site-packages (from hydra-core==1.0.0rc4->nemo_toolkit[nlp]) (4.8)\n",
      "Requirement already satisfied: importlib-resources; python_version < \"3.9\" in /home/ohrinchuk/anaconda3/lib/python3.7/site-packages (from hydra-core==1.0.0rc4->nemo_toolkit[nlp]) (3.0.0)\n",
      "Requirement already satisfied: six>=1.5 in /home/ohrinchuk/anaconda3/lib/python3.7/site-packages (from python-dateutil->nemo_toolkit[nlp]) (1.14.0)\n",
      "Requirement already satisfied: ruamel.yaml.clib>=0.1.2; platform_python_implementation == \"CPython\" and python_version < \"3.9\" in /home/ohrinchuk/anaconda3/lib/python3.7/site-packages (from ruamel.yaml->nemo_toolkit[nlp]) (0.2.0)\n",
      "Requirement already satisfied: future in /home/ohrinchuk/anaconda3/lib/python3.7/site-packages (from torch->nemo_toolkit[nlp]) (0.18.2)\n",
      "Requirement already satisfied: protobuf in /home/ohrinchuk/anaconda3/lib/python3.7/site-packages (from onnx>=1.7.0->nemo_toolkit[nlp]) (3.11.3)\n",
      "Requirement already satisfied: typing-extensions>=3.6.2.1 in /home/ohrinchuk/anaconda3/lib/python3.7/site-packages (from onnx>=1.7.0->nemo_toolkit[nlp]) (3.7.4.2)\n",
      "Requirement already satisfied: joblib>=0.11 in /home/ohrinchuk/anaconda3/lib/python3.7/site-packages (from scikit-learn->nemo_toolkit[nlp]) (0.14.1)\n",
      "Requirement already satisfied: scipy>=0.17.0 in /home/ohrinchuk/anaconda3/lib/python3.7/site-packages (from scikit-learn->nemo_toolkit[nlp]) (1.4.1)\n",
      "Requirement already satisfied: PyYAML>=5.1.* in /home/ohrinchuk/anaconda3/lib/python3.7/site-packages (from omegaconf==2.0.1rc12->nemo_toolkit[nlp]) (5.3)\n",
      "Requirement already satisfied: requests in /home/ohrinchuk/anaconda3/lib/python3.7/site-packages (from transformers>=3.1.0->nemo_toolkit[nlp]) (2.22.0)\n",
      "Requirement already satisfied: filelock in /home/ohrinchuk/anaconda3/lib/python3.7/site-packages (from transformers>=3.1.0->nemo_toolkit[nlp]) (3.0.12)\n",
      "Requirement already satisfied: packaging in /home/ohrinchuk/anaconda3/lib/python3.7/site-packages (from transformers>=3.1.0->nemo_toolkit[nlp]) (20.1)\n",
      "Requirement already satisfied: regex!=2019.12.17 in /home/ohrinchuk/anaconda3/lib/python3.7/site-packages (from transformers>=3.1.0->nemo_toolkit[nlp]) (2020.4.4)\n",
      "Requirement already satisfied: tokenizers==0.8.1.rc2 in /home/ohrinchuk/anaconda3/lib/python3.7/site-packages (from transformers>=3.1.0->nemo_toolkit[nlp]) (0.8.1rc2)\n",
      "Requirement already satisfied: sacremoses in /home/ohrinchuk/anaconda3/lib/python3.7/site-packages (from transformers>=3.1.0->nemo_toolkit[nlp]) (0.0.41)\n",
      "Requirement already satisfied: tensorboard==2.2.0 in /home/ohrinchuk/anaconda3/lib/python3.7/site-packages (from pytorch-lightning==0.9.0->nemo_toolkit[nlp]) (2.2.0)\n",
      "Requirement already satisfied: pybind11 in /home/ohrinchuk/anaconda3/lib/python3.7/site-packages (from megatron-lm>=1.1.4; extra == \"nlp\"->nemo_toolkit[nlp]) (2.5.0)\n",
      "Requirement already satisfied: Click>=7.0 in /home/ohrinchuk/anaconda3/lib/python3.7/site-packages (from youtokentome; extra == \"nlp\"->nemo_toolkit[nlp]) (7.1.2)\n",
      "Requirement already satisfied: s3transfer<0.4.0,>=0.3.0 in /home/ohrinchuk/anaconda3/lib/python3.7/site-packages (from boto3; extra == \"nlp\"->nemo_toolkit[nlp]) (0.3.3)\n",
      "Requirement already satisfied: jmespath<1.0.0,>=0.7.1 in /home/ohrinchuk/anaconda3/lib/python3.7/site-packages (from boto3; extra == \"nlp\"->nemo_toolkit[nlp]) (0.9.5)\n",
      "Requirement already satisfied: botocore<1.16.0,>=1.15.43 in /home/ohrinchuk/anaconda3/lib/python3.7/site-packages (from boto3; extra == \"nlp\"->nemo_toolkit[nlp]) (1.15.43)\n",
      "Requirement already satisfied: importlib-metadata; python_version < \"3.8\" in /home/ohrinchuk/anaconda3/lib/python3.7/site-packages (from inflect; extra == \"nlp\"->nemo_toolkit[nlp]) (1.5.0)\n",
      "Requirement already satisfied: pyparsing!=2.0.4,!=2.1.2,!=2.1.6,>=2.0.3 in /home/ohrinchuk/anaconda3/lib/python3.7/site-packages (from matplotlib>=3.3.2; extra == \"nlp\"->nemo_toolkit[nlp]) (2.4.6)\n",
      "Requirement already satisfied: certifi>=2020.06.20 in /home/ohrinchuk/anaconda3/lib/python3.7/site-packages (from matplotlib>=3.3.2; extra == \"nlp\"->nemo_toolkit[nlp]) (2020.6.20)\n",
      "Requirement already satisfied: cycler>=0.10 in /home/ohrinchuk/anaconda3/lib/python3.7/site-packages (from matplotlib>=3.3.2; extra == \"nlp\"->nemo_toolkit[nlp]) (0.10.0)\n",
      "Requirement already satisfied: kiwisolver>=1.0.1 in /home/ohrinchuk/anaconda3/lib/python3.7/site-packages (from matplotlib>=3.3.2; extra == \"nlp\"->nemo_toolkit[nlp]) (1.1.0)\n",
      "Requirement already satisfied: pillow>=6.2.0 in /home/ohrinchuk/anaconda3/lib/python3.7/site-packages (from matplotlib>=3.3.2; extra == \"nlp\"->nemo_toolkit[nlp]) (7.0.0)\n",
      "Requirement already satisfied: zipp>=0.4; python_version < \"3.8\" in /home/ohrinchuk/anaconda3/lib/python3.7/site-packages (from importlib-resources; python_version < \"3.9\"->hydra-core==1.0.0rc4->nemo_toolkit[nlp]) (2.2.0)\n",
      "Requirement already satisfied: setuptools in /home/ohrinchuk/anaconda3/lib/python3.7/site-packages (from protobuf->onnx>=1.7.0->nemo_toolkit[nlp]) (50.3.0)\n"
     ]
    },
    {
     "name": "stdout",
     "output_type": "stream",
     "text": [
      "Requirement already satisfied: idna<2.9,>=2.5 in /home/ohrinchuk/anaconda3/lib/python3.7/site-packages (from requests->transformers>=3.1.0->nemo_toolkit[nlp]) (2.8)\n",
      "Requirement already satisfied: urllib3!=1.25.0,!=1.25.1,<1.26,>=1.21.1 in /home/ohrinchuk/anaconda3/lib/python3.7/site-packages (from requests->transformers>=3.1.0->nemo_toolkit[nlp]) (1.25.8)\n",
      "Requirement already satisfied: chardet<3.1.0,>=3.0.2 in /home/ohrinchuk/anaconda3/lib/python3.7/site-packages (from requests->transformers>=3.1.0->nemo_toolkit[nlp]) (3.0.4)\n",
      "Requirement already satisfied: tensorboard-plugin-wit>=1.6.0 in /home/ohrinchuk/anaconda3/lib/python3.7/site-packages (from tensorboard==2.2.0->pytorch-lightning==0.9.0->nemo_toolkit[nlp]) (1.6.0.post3)\n",
      "Requirement already satisfied: werkzeug>=0.11.15 in /home/ohrinchuk/anaconda3/lib/python3.7/site-packages (from tensorboard==2.2.0->pytorch-lightning==0.9.0->nemo_toolkit[nlp]) (1.0.0)\n",
      "Requirement already satisfied: google-auth<2,>=1.6.3 in /home/ohrinchuk/anaconda3/lib/python3.7/site-packages (from tensorboard==2.2.0->pytorch-lightning==0.9.0->nemo_toolkit[nlp]) (1.14.1)\n",
      "Requirement already satisfied: grpcio>=1.24.3 in /home/ohrinchuk/anaconda3/lib/python3.7/site-packages (from tensorboard==2.2.0->pytorch-lightning==0.9.0->nemo_toolkit[nlp]) (1.28.1)\n",
      "Requirement already satisfied: markdown>=2.6.8 in /home/ohrinchuk/anaconda3/lib/python3.7/site-packages (from tensorboard==2.2.0->pytorch-lightning==0.9.0->nemo_toolkit[nlp]) (3.2.1)\n",
      "Requirement already satisfied: absl-py>=0.4 in /home/ohrinchuk/anaconda3/lib/python3.7/site-packages (from tensorboard==2.2.0->pytorch-lightning==0.9.0->nemo_toolkit[nlp]) (0.9.0)\n",
      "Requirement already satisfied: wheel>=0.26; python_version >= \"3\" in /home/ohrinchuk/anaconda3/lib/python3.7/site-packages (from tensorboard==2.2.0->pytorch-lightning==0.9.0->nemo_toolkit[nlp]) (0.34.2)\n",
      "Requirement already satisfied: google-auth-oauthlib<0.5,>=0.4.1 in /home/ohrinchuk/anaconda3/lib/python3.7/site-packages (from tensorboard==2.2.0->pytorch-lightning==0.9.0->nemo_toolkit[nlp]) (0.4.1)\n",
      "Requirement already satisfied: docutils<0.16,>=0.10 in /home/ohrinchuk/anaconda3/lib/python3.7/site-packages (from botocore<1.16.0,>=1.15.43->boto3; extra == \"nlp\"->nemo_toolkit[nlp]) (0.15.2)\n",
      "Requirement already satisfied: cachetools<5.0,>=2.0.0 in /home/ohrinchuk/anaconda3/lib/python3.7/site-packages (from google-auth<2,>=1.6.3->tensorboard==2.2.0->pytorch-lightning==0.9.0->nemo_toolkit[nlp]) (4.1.0)\n",
      "Requirement already satisfied: pyasn1-modules>=0.2.1 in /home/ohrinchuk/anaconda3/lib/python3.7/site-packages (from google-auth<2,>=1.6.3->tensorboard==2.2.0->pytorch-lightning==0.9.0->nemo_toolkit[nlp]) (0.2.8)\n",
      "Requirement already satisfied: rsa<4.1,>=3.1.4 in /home/ohrinchuk/anaconda3/lib/python3.7/site-packages (from google-auth<2,>=1.6.3->tensorboard==2.2.0->pytorch-lightning==0.9.0->nemo_toolkit[nlp]) (4.0)\n",
      "Requirement already satisfied: requests-oauthlib>=0.7.0 in /home/ohrinchuk/anaconda3/lib/python3.7/site-packages (from google-auth-oauthlib<0.5,>=0.4.1->tensorboard==2.2.0->pytorch-lightning==0.9.0->nemo_toolkit[nlp]) (1.3.0)\n",
      "Requirement already satisfied: pyasn1<0.5.0,>=0.4.6 in /home/ohrinchuk/anaconda3/lib/python3.7/site-packages (from pyasn1-modules>=0.2.1->google-auth<2,>=1.6.3->tensorboard==2.2.0->pytorch-lightning==0.9.0->nemo_toolkit[nlp]) (0.4.8)\n",
      "Requirement already satisfied: oauthlib>=3.0.0 in /home/ohrinchuk/anaconda3/lib/python3.7/site-packages (from requests-oauthlib>=0.7.0->google-auth-oauthlib<0.5,>=0.4.1->tensorboard==2.2.0->pytorch-lightning==0.9.0->nemo_toolkit[nlp]) (3.1.0)\n",
      "\u001b[33mWARNING: You are using pip version 20.1.1; however, version 20.2.3 is available.\n",
      "You should consider upgrading via the '/home/ohrinchuk/anaconda3/bin/python -m pip install --upgrade pip' command.\u001b[0m\n"
     ]
    }
   ],
   "source": [
    "\"\"\"\n",
    "You can run either this notebook locally (if you have all the dependencies and a GPU) or on Google Colab.\n",
    "\n",
    "Instructions for setting up Colab are as follows:\n",
    "1. Open a new Python 3 notebook.\n",
    "2. Import this notebook from GitHub (File -> Upload Notebook -> \"GITHUB\" tab -> copy/paste GitHub URL)\n",
    "3. Connect to an instance with a GPU (Runtime -> Change runtime type -> select \"GPU\" for hardware accelerator)\n",
    "4. Run this cell to set up dependencies.\n",
    "\"\"\"\n",
    "# If you're using Google Colab and not running locally, run this cell\n",
    "\n",
    "# install NeMo\n",
    "!python -m pip install git+https://github.com/AlexGrinch/NeMo.git@{BRANCH}#egg=nemo_toolkit[nlp]\n"
   ]
  },
  {
   "cell_type": "code",
   "execution_count": 4,
   "metadata": {
    "pycharm": {
     "name": "#%%\n"
    },
    "scrolled": true
   },
   "outputs": [
    {
     "name": "stdout",
     "output_type": "stream",
     "text": [
      "Requirement already satisfied: ipywidgets in /home/ohrinchuk/anaconda3/lib/python3.7/site-packages (7.5.1)\n",
      "Requirement already satisfied: widgetsnbextension~=3.5.0 in /home/ohrinchuk/anaconda3/lib/python3.7/site-packages (from ipywidgets) (3.5.1)\n",
      "Requirement already satisfied: nbformat>=4.2.0 in /home/ohrinchuk/anaconda3/lib/python3.7/site-packages (from ipywidgets) (5.0.4)\n",
      "Requirement already satisfied: ipykernel>=4.5.1 in /home/ohrinchuk/anaconda3/lib/python3.7/site-packages (from ipywidgets) (5.1.4)\n",
      "Requirement already satisfied: ipython>=4.0.0; python_version >= \"3.3\" in /home/ohrinchuk/anaconda3/lib/python3.7/site-packages (from ipywidgets) (7.12.0)\n",
      "Requirement already satisfied: traitlets>=4.3.1 in /home/ohrinchuk/anaconda3/lib/python3.7/site-packages (from ipywidgets) (4.3.3)\n",
      "Requirement already satisfied: notebook>=4.4.1 in /home/ohrinchuk/anaconda3/lib/python3.7/site-packages (from widgetsnbextension~=3.5.0->ipywidgets) (6.0.3)\n",
      "Requirement already satisfied: ipython-genutils in /home/ohrinchuk/anaconda3/lib/python3.7/site-packages (from nbformat>=4.2.0->ipywidgets) (0.2.0)\n",
      "Requirement already satisfied: jsonschema!=2.5.0,>=2.4 in /home/ohrinchuk/anaconda3/lib/python3.7/site-packages (from nbformat>=4.2.0->ipywidgets) (3.2.0)\n",
      "Requirement already satisfied: jupyter-core in /home/ohrinchuk/anaconda3/lib/python3.7/site-packages (from nbformat>=4.2.0->ipywidgets) (4.6.1)\n",
      "Requirement already satisfied: tornado>=4.2 in /home/ohrinchuk/anaconda3/lib/python3.7/site-packages (from ipykernel>=4.5.1->ipywidgets) (6.0.3)\n",
      "Requirement already satisfied: jupyter-client in /home/ohrinchuk/anaconda3/lib/python3.7/site-packages (from ipykernel>=4.5.1->ipywidgets) (5.3.4)\n",
      "Requirement already satisfied: pygments in /home/ohrinchuk/anaconda3/lib/python3.7/site-packages (from ipython>=4.0.0; python_version >= \"3.3\"->ipywidgets) (2.5.2)\n",
      "Requirement already satisfied: pickleshare in /home/ohrinchuk/anaconda3/lib/python3.7/site-packages (from ipython>=4.0.0; python_version >= \"3.3\"->ipywidgets) (0.7.5)\n",
      "Requirement already satisfied: backcall in /home/ohrinchuk/anaconda3/lib/python3.7/site-packages (from ipython>=4.0.0; python_version >= \"3.3\"->ipywidgets) (0.1.0)\n",
      "Requirement already satisfied: pexpect; sys_platform != \"win32\" in /home/ohrinchuk/anaconda3/lib/python3.7/site-packages (from ipython>=4.0.0; python_version >= \"3.3\"->ipywidgets) (4.8.0)\n",
      "Requirement already satisfied: decorator in /home/ohrinchuk/anaconda3/lib/python3.7/site-packages (from ipython>=4.0.0; python_version >= \"3.3\"->ipywidgets) (4.4.1)\n",
      "Requirement already satisfied: prompt-toolkit!=3.0.0,!=3.0.1,<3.1.0,>=2.0.0 in /home/ohrinchuk/anaconda3/lib/python3.7/site-packages (from ipython>=4.0.0; python_version >= \"3.3\"->ipywidgets) (3.0.3)\n",
      "Requirement already satisfied: setuptools>=18.5 in /home/ohrinchuk/anaconda3/lib/python3.7/site-packages (from ipython>=4.0.0; python_version >= \"3.3\"->ipywidgets) (50.3.0)\n",
      "Requirement already satisfied: jedi>=0.10 in /home/ohrinchuk/anaconda3/lib/python3.7/site-packages (from ipython>=4.0.0; python_version >= \"3.3\"->ipywidgets) (0.14.1)\n",
      "Requirement already satisfied: six in /home/ohrinchuk/anaconda3/lib/python3.7/site-packages (from traitlets>=4.3.1->ipywidgets) (1.14.0)\n",
      "Requirement already satisfied: nbconvert in /home/ohrinchuk/anaconda3/lib/python3.7/site-packages (from notebook>=4.4.1->widgetsnbextension~=3.5.0->ipywidgets) (5.6.1)\n",
      "Requirement already satisfied: prometheus-client in /home/ohrinchuk/anaconda3/lib/python3.7/site-packages (from notebook>=4.4.1->widgetsnbextension~=3.5.0->ipywidgets) (0.7.1)\n",
      "Requirement already satisfied: jinja2 in /home/ohrinchuk/anaconda3/lib/python3.7/site-packages (from notebook>=4.4.1->widgetsnbextension~=3.5.0->ipywidgets) (2.11.1)\n",
      "Requirement already satisfied: Send2Trash in /home/ohrinchuk/anaconda3/lib/python3.7/site-packages (from notebook>=4.4.1->widgetsnbextension~=3.5.0->ipywidgets) (1.5.0)\n",
      "Requirement already satisfied: pyzmq>=17 in /home/ohrinchuk/anaconda3/lib/python3.7/site-packages (from notebook>=4.4.1->widgetsnbextension~=3.5.0->ipywidgets) (18.1.1)\n",
      "Requirement already satisfied: terminado>=0.8.1 in /home/ohrinchuk/anaconda3/lib/python3.7/site-packages (from notebook>=4.4.1->widgetsnbextension~=3.5.0->ipywidgets) (0.8.3)\n",
      "Requirement already satisfied: pyrsistent>=0.14.0 in /home/ohrinchuk/anaconda3/lib/python3.7/site-packages (from jsonschema!=2.5.0,>=2.4->nbformat>=4.2.0->ipywidgets) (0.15.7)\n",
      "Requirement already satisfied: importlib-metadata; python_version < \"3.8\" in /home/ohrinchuk/anaconda3/lib/python3.7/site-packages (from jsonschema!=2.5.0,>=2.4->nbformat>=4.2.0->ipywidgets) (1.5.0)\n",
      "Requirement already satisfied: attrs>=17.4.0 in /home/ohrinchuk/anaconda3/lib/python3.7/site-packages (from jsonschema!=2.5.0,>=2.4->nbformat>=4.2.0->ipywidgets) (19.3.0)\n",
      "Requirement already satisfied: python-dateutil>=2.1 in /home/ohrinchuk/anaconda3/lib/python3.7/site-packages (from jupyter-client->ipykernel>=4.5.1->ipywidgets) (2.8.1)\n",
      "Requirement already satisfied: ptyprocess>=0.5 in /home/ohrinchuk/anaconda3/lib/python3.7/site-packages (from pexpect; sys_platform != \"win32\"->ipython>=4.0.0; python_version >= \"3.3\"->ipywidgets) (0.6.0)\n",
      "Requirement already satisfied: wcwidth in /home/ohrinchuk/anaconda3/lib/python3.7/site-packages (from prompt-toolkit!=3.0.0,!=3.0.1,<3.1.0,>=2.0.0->ipython>=4.0.0; python_version >= \"3.3\"->ipywidgets) (0.1.8)\n",
      "Requirement already satisfied: parso>=0.5.0 in /home/ohrinchuk/anaconda3/lib/python3.7/site-packages (from jedi>=0.10->ipython>=4.0.0; python_version >= \"3.3\"->ipywidgets) (0.5.2)\n",
      "Requirement already satisfied: defusedxml in /home/ohrinchuk/anaconda3/lib/python3.7/site-packages (from nbconvert->notebook>=4.4.1->widgetsnbextension~=3.5.0->ipywidgets) (0.6.0)\n",
      "Requirement already satisfied: testpath in /home/ohrinchuk/anaconda3/lib/python3.7/site-packages (from nbconvert->notebook>=4.4.1->widgetsnbextension~=3.5.0->ipywidgets) (0.4.4)\n",
      "Requirement already satisfied: bleach in /home/ohrinchuk/anaconda3/lib/python3.7/site-packages (from nbconvert->notebook>=4.4.1->widgetsnbextension~=3.5.0->ipywidgets) (3.1.0)\n",
      "Requirement already satisfied: entrypoints>=0.2.2 in /home/ohrinchuk/anaconda3/lib/python3.7/site-packages (from nbconvert->notebook>=4.4.1->widgetsnbextension~=3.5.0->ipywidgets) (0.3)\n",
      "Requirement already satisfied: mistune<2,>=0.8.1 in /home/ohrinchuk/anaconda3/lib/python3.7/site-packages (from nbconvert->notebook>=4.4.1->widgetsnbextension~=3.5.0->ipywidgets) (0.8.4)\n",
      "Requirement already satisfied: pandocfilters>=1.4.1 in /home/ohrinchuk/anaconda3/lib/python3.7/site-packages (from nbconvert->notebook>=4.4.1->widgetsnbextension~=3.5.0->ipywidgets) (1.4.2)\n",
      "Requirement already satisfied: MarkupSafe>=0.23 in /home/ohrinchuk/anaconda3/lib/python3.7/site-packages (from jinja2->notebook>=4.4.1->widgetsnbextension~=3.5.0->ipywidgets) (1.1.1)\n",
      "Requirement already satisfied: zipp>=0.5 in /home/ohrinchuk/anaconda3/lib/python3.7/site-packages (from importlib-metadata; python_version < \"3.8\"->jsonschema!=2.5.0,>=2.4->nbformat>=4.2.0->ipywidgets) (2.2.0)\n",
      "Requirement already satisfied: webencodings in /home/ohrinchuk/anaconda3/lib/python3.7/site-packages (from bleach->nbconvert->notebook>=4.4.1->widgetsnbextension~=3.5.0->ipywidgets) (0.5.1)\n",
      "\u001b[33mWARNING: You are using pip version 20.1.1; however, version 20.2.3 is available.\n",
      "You should consider upgrading via the '/home/ohrinchuk/anaconda3/bin/python -m pip install --upgrade pip' command.\u001b[0m\n",
      "Enabling notebook extension jupyter-js-widgets/extension...\n",
      "      - Validating: \u001b[32mOK\u001b[0m\n"
     ]
    }
   ],
   "source": [
    "# If you're not using Colab, you might need to upgrade jupyter notebook to avoid the following error:\n",
    "# 'ImportError: IProgress not found. Please update jupyter and ipywidgets.'\n",
    "\n",
    "! pip install ipywidgets\n",
    "! jupyter nbextension enable --py widgetsnbextension\n",
    "\n",
    "# Please restart the kernel after running this cell"
   ]
  },
  {
   "cell_type": "code",
   "execution_count": 5,
   "metadata": {
    "colab": {},
    "colab_type": "code",
    "id": "dzqD2WDFOIN-"
   },
   "outputs": [
    {
     "name": "stderr",
     "output_type": "stream",
     "text": [
      "\u001b[34m\u001b[1mwandb\u001b[0m: \u001b[33mWARNING\u001b[0m W&B installed but not logged in.  Run `wandb login` or set the WANDB_API_KEY env variable.\n",
      "[NeMo W 2020-10-02 02:14:55 experimental:28] Module <class 'nemo.collections.nlp.modules.common.huggingface.auto.AutoModelEncoder'> is experimental, not ready for production and is not fully supported. Use at your own risk.\n",
      "[NeMo W 2020-10-02 02:14:55 experimental:28] Module <class 'nemo.collections.nlp.modules.common.megatron.megatron_bert.MegatronBertEncoder'> is experimental, not ready for production and is not fully supported. Use at your own risk.\n"
     ]
    },
    {
     "name": "stdout",
     "output_type": "stream",
     "text": [
      "WARNING: APEX is not installed, multi_tensor_applier will not be available.\n",
      "WARNING: APEX is not installed, using torch.nn.LayerNorm instead of apex.normalization.FusedLayerNorm!\n"
     ]
    }
   ],
   "source": [
    "from nemo.collections import nlp as nemo_nlp\n",
    "from nemo.utils.exp_manager import exp_manager\n",
    "\n",
    "import os\n",
    "import wget \n",
    "import torch\n",
    "import pytorch_lightning as pl\n",
    "from omegaconf import OmegaConf"
   ]
  },
  {
   "cell_type": "markdown",
   "metadata": {
    "colab_type": "text",
    "id": "daYw_Xll2ZR9"
   },
   "source": [
    "In this tutorial, we are going to describe how to finetune a BERT-like model based on [BERT: Pre-training of Deep Bidirectional Transformers for Language Understanding](https://arxiv.org/abs/1810.04805) on information retrieval task. We will be working on MSMARCO dataset which contains more than 800K queries and more than 8.8M short passages and the task is to rank all passages by their relevance to the particular query. Specifically, we will be training two different models.\n",
    "\n",
    "### BERT joint re-ranking \n",
    "\n",
    "* Original paper: [Passage Re-ranking with BERT](https://arxiv.org/abs/1901.04085).\n",
    "* Model overview: input query-passage pair is encoded as **[CLS] query_tokens [SEP] passage_tokens [SEP]** and is fed into BERT encoder. Last hidden state of [CLS] token is then passed into fully-connected layer to get similarity score.\n",
    "* Pros: high accuracy.\n",
    "* Cons: the model is too computationally demanding to use for all passages re-ranking. It is better to use this model for re-ranking the shortlist of ~top-100 candidates.\n",
    "\n",
    "### Dense Passage Retrieval\n",
    "\n",
    "* Original paper: [Dense Passage Retrieval for Open-Domain Question Answering](https://arxiv.org/abs/2004.04906).\n",
    "* Model overview: input query-passage pair is separately as **[CLS] query_tokens [SEP]** and **[CLS] passage_tokens [SEP]** which are fed into two different BERT encoders. Last hidden states of corresponding [CLS] tokens are treated as query and passage embedding respectively. The similarity score is computed as a dot-product between query and passage embeddings.\n",
    "* Pros: as the computation of query and passage embeddings is disentangled, all passage embeddings can be pre-computed in a single run through the passage collection. Then, we can build FAISS index on top of them and retrieve relevant passages very fast.\n",
    "* Cons: accuracy is lower comparing to joint model."
   ]
  },
  {
   "cell_type": "markdown",
   "metadata": {
    "colab_type": "text",
    "id": "ZnuziSwJ1yEB"
   },
   "source": [
    "# Dataset\n",
    "\n",
    "First of all, we need to download and prepare training dataset. Navigate to [examples/nlp/information_retrieval](https://github.com/NVIDIA/NeMo/blob/main/examples/nlp/information_retrieval) and download MSMARCO dataset:\n",
    "\n",
    "`bash get_msmarco.sh`\n",
    "\n",
    "The dataset should contain the following files:\n",
    "* collection.tsv - training passages with entries (passage_id, passage_text)\n",
    "* queries.(train/dev).tsv - training/development queries with entries (query_id, query_text)\n",
    "* qrels.(train/dev).tsv - training/development relevance scores with entries (query_id, 0, passage_id, 1)\n",
    "\n",
    "Information retrieval models are usually trained on lists of query, corresponding relevant passage, and several irrelevant passages in a contrastive manner. Thus, the format of training dataset for NeMo information retrieval models is the following:\n",
    "* collection.tsv.(pkl/npz) - tokenized and cached training passages\n",
    "* queries.train.tsv.(pkl/npz) - tokenized and cached training queries\n",
    "* query2passages.tsv - file with entries (query_id, rel_psg_id, irrel_psg_1_id, ..., irrel_psg_k_id)\n",
    "\n",
    "Note, the way we choose irrelevant passages for training is important for good performance of the model. If we choose too easy negative passages (which have nothing to do with the corresponding relevant passage), the model will quickly learn to distinguish them from positive passages, however, it will work poorly on harder negative passages (for example, those with significant overlap with query or positive passage tokens). Thus, it is common to construct harder negative passages, for example, by selecting irrelevant passages but with high BM25 score. For this tutorial, we will be choosing negative passages randomly. To do it, run corresponding script from [examples/nlp/information_retrieval](https://github.com/NVIDIA/NeMo/blob/main/examples/nlp/information_retrieval):\n",
    "\n",
    "`python construct_random_negatives.py`\n",
    "\n",
    "After this script creates two files query2passages.train.tsv and query2passages.dev.tsv, we will have everything we need to start training."
   ]
  },
  {
   "cell_type": "markdown",
   "metadata": {
    "colab_type": "text",
    "id": "ZCgWzNBkaQLZ"
   },
   "source": [
    "# Model Training\n",
    "\n",
    "If you have NeMo installed locally, you can also train the model with `examples/nlp/information_retrieval/bert_joint_ir.py`\n",
    "\n",
    "To run training script, use:\n",
    "\n",
    "`python bert_joint_ir.py`"
   ]
  }
 ],
 "metadata": {
  "accelerator": "GPU",
  "colab": {
   "collapsed_sections": [],
   "name": "GLUE_Benchmark.ipynb",
   "private_outputs": true,
   "provenance": []
  },
  "kernelspec": {
   "display_name": "Python 3",
   "language": "python",
   "name": "python3"
  },
  "language_info": {
   "codemirror_mode": {
    "name": "ipython",
    "version": 3
   },
   "file_extension": ".py",
   "mimetype": "text/x-python",
   "name": "python",
   "nbconvert_exporter": "python",
   "pygments_lexer": "ipython3",
   "version": "3.7.6"
  },
  "pycharm": {
   "stem_cell": {
    "cell_type": "raw",
    "metadata": {
     "collapsed": false
    },
    "source": []
   }
  }
 },
 "nbformat": 4,
 "nbformat_minor": 1
}
